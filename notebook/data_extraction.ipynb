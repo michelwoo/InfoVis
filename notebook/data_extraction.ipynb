{
 "cells": [
  {
   "cell_type": "code",
   "execution_count": 1,
   "metadata": {},
   "outputs": [],
   "source": [
    "import pandas as pd\n",
    "import numpy as np\n",
    "from collections import Counter\n",
    "import csv"
   ]
  },
  {
   "cell_type": "code",
   "execution_count": 2,
   "metadata": {},
   "outputs": [
    {
     "data": {
      "text/html": [
       "<div>\n",
       "<style scoped>\n",
       "    .dataframe tbody tr th:only-of-type {\n",
       "        vertical-align: middle;\n",
       "    }\n",
       "\n",
       "    .dataframe tbody tr th {\n",
       "        vertical-align: top;\n",
       "    }\n",
       "\n",
       "    .dataframe thead th {\n",
       "        text-align: right;\n",
       "    }\n",
       "</style>\n",
       "<table border=\"1\" class=\"dataframe\">\n",
       "  <thead>\n",
       "    <tr style=\"text-align: right;\">\n",
       "      <th></th>\n",
       "      <th>Country Name</th>\n",
       "      <th>Country Code</th>\n",
       "      <th>Indicator Name</th>\n",
       "      <th>Indicator Code</th>\n",
       "      <th>1960</th>\n",
       "      <th>1961</th>\n",
       "      <th>1962</th>\n",
       "      <th>1963</th>\n",
       "      <th>1964</th>\n",
       "      <th>1965</th>\n",
       "      <th>...</th>\n",
       "      <th>2011</th>\n",
       "      <th>2012</th>\n",
       "      <th>2013</th>\n",
       "      <th>2014</th>\n",
       "      <th>2015</th>\n",
       "      <th>2016</th>\n",
       "      <th>2017</th>\n",
       "      <th>2018</th>\n",
       "      <th>2019</th>\n",
       "      <th>Unnamed: 64</th>\n",
       "    </tr>\n",
       "  </thead>\n",
       "  <tbody>\n",
       "    <tr>\n",
       "      <th>67257</th>\n",
       "      <td>Afghanistan</td>\n",
       "      <td>AFG</td>\n",
       "      <td>2005 PPP conversion factor, GDP (LCU per inter...</td>\n",
       "      <td>PA.NUS.PPP.05</td>\n",
       "      <td>NaN</td>\n",
       "      <td>NaN</td>\n",
       "      <td>NaN</td>\n",
       "      <td>NaN</td>\n",
       "      <td>NaN</td>\n",
       "      <td>NaN</td>\n",
       "      <td>...</td>\n",
       "      <td>NaN</td>\n",
       "      <td>NaN</td>\n",
       "      <td>NaN</td>\n",
       "      <td>NaN</td>\n",
       "      <td>NaN</td>\n",
       "      <td>NaN</td>\n",
       "      <td>NaN</td>\n",
       "      <td>NaN</td>\n",
       "      <td>NaN</td>\n",
       "      <td>NaN</td>\n",
       "    </tr>\n",
       "    <tr>\n",
       "      <th>67258</th>\n",
       "      <td>Afghanistan</td>\n",
       "      <td>AFG</td>\n",
       "      <td>2005 PPP conversion factor, private consumptio...</td>\n",
       "      <td>PA.NUS.PRVT.PP.05</td>\n",
       "      <td>NaN</td>\n",
       "      <td>NaN</td>\n",
       "      <td>NaN</td>\n",
       "      <td>NaN</td>\n",
       "      <td>NaN</td>\n",
       "      <td>NaN</td>\n",
       "      <td>...</td>\n",
       "      <td>NaN</td>\n",
       "      <td>NaN</td>\n",
       "      <td>NaN</td>\n",
       "      <td>NaN</td>\n",
       "      <td>NaN</td>\n",
       "      <td>NaN</td>\n",
       "      <td>NaN</td>\n",
       "      <td>NaN</td>\n",
       "      <td>NaN</td>\n",
       "      <td>NaN</td>\n",
       "    </tr>\n",
       "    <tr>\n",
       "      <th>67259</th>\n",
       "      <td>Afghanistan</td>\n",
       "      <td>AFG</td>\n",
       "      <td>Access to clean fuels and technologies for coo...</td>\n",
       "      <td>EG.CFT.ACCS.ZS</td>\n",
       "      <td>NaN</td>\n",
       "      <td>NaN</td>\n",
       "      <td>NaN</td>\n",
       "      <td>NaN</td>\n",
       "      <td>NaN</td>\n",
       "      <td>NaN</td>\n",
       "      <td>...</td>\n",
       "      <td>22.330000</td>\n",
       "      <td>24.080000</td>\n",
       "      <td>26.170000</td>\n",
       "      <td>27.990000</td>\n",
       "      <td>30.100000</td>\n",
       "      <td>32.44000</td>\n",
       "      <td>NaN</td>\n",
       "      <td>NaN</td>\n",
       "      <td>NaN</td>\n",
       "      <td>NaN</td>\n",
       "    </tr>\n",
       "    <tr>\n",
       "      <th>67260</th>\n",
       "      <td>Afghanistan</td>\n",
       "      <td>AFG</td>\n",
       "      <td>Access to electricity (% of population)</td>\n",
       "      <td>EG.ELC.ACCS.ZS</td>\n",
       "      <td>NaN</td>\n",
       "      <td>NaN</td>\n",
       "      <td>NaN</td>\n",
       "      <td>NaN</td>\n",
       "      <td>NaN</td>\n",
       "      <td>NaN</td>\n",
       "      <td>...</td>\n",
       "      <td>43.222019</td>\n",
       "      <td>69.100000</td>\n",
       "      <td>70.153481</td>\n",
       "      <td>89.500000</td>\n",
       "      <td>71.500000</td>\n",
       "      <td>97.70000</td>\n",
       "      <td>97.700000</td>\n",
       "      <td>NaN</td>\n",
       "      <td>NaN</td>\n",
       "      <td>NaN</td>\n",
       "    </tr>\n",
       "    <tr>\n",
       "      <th>67261</th>\n",
       "      <td>Afghanistan</td>\n",
       "      <td>AFG</td>\n",
       "      <td>Access to electricity, rural (% of rural popul...</td>\n",
       "      <td>EG.ELC.ACCS.RU.ZS</td>\n",
       "      <td>NaN</td>\n",
       "      <td>NaN</td>\n",
       "      <td>NaN</td>\n",
       "      <td>NaN</td>\n",
       "      <td>NaN</td>\n",
       "      <td>NaN</td>\n",
       "      <td>...</td>\n",
       "      <td>29.572881</td>\n",
       "      <td>60.849156</td>\n",
       "      <td>62.875693</td>\n",
       "      <td>86.500512</td>\n",
       "      <td>64.573354</td>\n",
       "      <td>97.09936</td>\n",
       "      <td>97.091973</td>\n",
       "      <td>NaN</td>\n",
       "      <td>NaN</td>\n",
       "      <td>NaN</td>\n",
       "    </tr>\n",
       "  </tbody>\n",
       "</table>\n",
       "<p>5 rows × 65 columns</p>\n",
       "</div>"
      ],
      "text/plain": [
       "      Country Name Country Code  \\\n",
       "67257  Afghanistan          AFG   \n",
       "67258  Afghanistan          AFG   \n",
       "67259  Afghanistan          AFG   \n",
       "67260  Afghanistan          AFG   \n",
       "67261  Afghanistan          AFG   \n",
       "\n",
       "                                          Indicator Name     Indicator Code  \\\n",
       "67257  2005 PPP conversion factor, GDP (LCU per inter...      PA.NUS.PPP.05   \n",
       "67258  2005 PPP conversion factor, private consumptio...  PA.NUS.PRVT.PP.05   \n",
       "67259  Access to clean fuels and technologies for coo...     EG.CFT.ACCS.ZS   \n",
       "67260            Access to electricity (% of population)     EG.ELC.ACCS.ZS   \n",
       "67261  Access to electricity, rural (% of rural popul...  EG.ELC.ACCS.RU.ZS   \n",
       "\n",
       "       1960  1961  1962  1963  1964  1965  ...       2011       2012  \\\n",
       "67257   NaN   NaN   NaN   NaN   NaN   NaN  ...        NaN        NaN   \n",
       "67258   NaN   NaN   NaN   NaN   NaN   NaN  ...        NaN        NaN   \n",
       "67259   NaN   NaN   NaN   NaN   NaN   NaN  ...  22.330000  24.080000   \n",
       "67260   NaN   NaN   NaN   NaN   NaN   NaN  ...  43.222019  69.100000   \n",
       "67261   NaN   NaN   NaN   NaN   NaN   NaN  ...  29.572881  60.849156   \n",
       "\n",
       "            2013       2014       2015      2016       2017  2018  2019  \\\n",
       "67257        NaN        NaN        NaN       NaN        NaN   NaN   NaN   \n",
       "67258        NaN        NaN        NaN       NaN        NaN   NaN   NaN   \n",
       "67259  26.170000  27.990000  30.100000  32.44000        NaN   NaN   NaN   \n",
       "67260  70.153481  89.500000  71.500000  97.70000  97.700000   NaN   NaN   \n",
       "67261  62.875693  86.500512  64.573354  97.09936  97.091973   NaN   NaN   \n",
       "\n",
       "       Unnamed: 64  \n",
       "67257          NaN  \n",
       "67258          NaN  \n",
       "67259          NaN  \n",
       "67260          NaN  \n",
       "67261          NaN  \n",
       "\n",
       "[5 rows x 65 columns]"
      ]
     },
     "execution_count": 2,
     "metadata": {},
     "output_type": "execute_result"
    }
   ],
   "source": [
    "# data from World Developement Indicator Dataset:\n",
    "# https://datacatalog.worldbank.org/dataset/world-development-indicators\n",
    "\n",
    "# get all country data: afghanistan to zimbabwe\n",
    "df = pd.read_csv(\"WDIData.csv\")[67257:]\n",
    "df.head()"
   ]
  },
  {
   "cell_type": "code",
   "execution_count": null,
   "metadata": {},
   "outputs": [],
   "source": []
  },
  {
   "cell_type": "code",
   "execution_count": 3,
   "metadata": {
    "scrolled": false
   },
   "outputs": [
    {
     "name": "stdout",
     "output_type": "stream",
     "text": [
      "Life expectancy at birth, female (years)\n",
      "Life expectancy at birth, male (years)\n",
      "Life expectancy at birth, total (years)\n"
     ]
    }
   ],
   "source": [
    "indicator_names = df[\"Indicator Name\"].unique()\n",
    "\n",
    "# looking for usefull attributes \n",
    "for name in indicator_names:\n",
    "    if \"Life expectancy at birth\" in name:\n",
    "        print(name)"
   ]
  },
  {
   "cell_type": "code",
   "execution_count": 4,
   "metadata": {},
   "outputs": [],
   "source": [
    "usefull_attributes = [\"Life expectancy at birth, total (years)\", \"GDP per capita (constant 2010 US$)\", \"Population, total\"]\n",
    "\n",
    "life_expectancy = df.where(df[\"Indicator Name\"] == usefull_attributes[0])\n",
    "population = df.where(df[\"Indicator Name\"] == usefull_attributes[2])\n",
    "gdp_p_cap = df.where(df[\"Indicator Name\"] == usefull_attributes[1])"
   ]
  },
  {
   "cell_type": "code",
   "execution_count": 46,
   "metadata": {},
   "outputs": [],
   "source": [
    "# drop nan and data 2018/2019\n",
    "population=population.dropna(how=\"all\")\n",
    "population_filtered = population.drop([\"2018\",\"2019\"],axis=1).reset_index()\n",
    "\n",
    "life_expectancy=life_expectancy.dropna(how=\"all\")\n",
    "life_expectancy_filtered = life_expectancy.drop([\"2018\",\"2019\"],axis=1).reset_index()\n",
    "\n",
    "gdp_p_cap=gdp_p_cap.dropna(how=\"all\")\n",
    "gdp_p_cap_filtered=gdp_p_cap.drop([\"2018\",\"2019\"],axis=1).reset_index()"
   ]
  },
  {
   "cell_type": "code",
   "execution_count": 47,
   "metadata": {
    "scrolled": false
   },
   "outputs": [
    {
     "data": {
      "text/plain": [
       "((217, 64),\n",
       " (217, 64),\n",
       " (217, 64),\n",
       " Index(['Indicator Code', '1960', '1961', '1962', '1963', '1964', '1965',\n",
       "        '1966', '1967', '1968', '1969', '1970', '1971', '1972', '1973', '1974',\n",
       "        '1975', '1976', '1977', '1978', '1979', '1980', '1981', '1982', '1983',\n",
       "        '1984', '1985', '1986', '1987', '1988', '1989', '1990', '1991', '1992',\n",
       "        '1993', '1994', '1995', '1996', '1997', '1998', '1999', '2000', '2001',\n",
       "        '2002', '2003', '2004', '2005', '2006', '2007', '2008', '2009', '2010',\n",
       "        '2011', '2012', '2013', '2014', '2015', '2016', '2017', 'Unnamed: 64'],\n",
       "       dtype='object'),\n",
       " 60)"
      ]
     },
     "execution_count": 47,
     "metadata": {},
     "output_type": "execute_result"
    }
   ],
   "source": [
    "# sanity check country numbers and year numbers\n",
    "population_filtered.shape, life_expectancy_filtered.shape, gdp_p_cap_filtered.shape, population_filtered.columns[4:], len(population_filtered.columns[4:])"
   ]
  },
  {
   "cell_type": "code",
   "execution_count": 73,
   "metadata": {
    "scrolled": false
   },
   "outputs": [],
   "source": [
    "# remove all indicies with more than 58 nan's,\n",
    "# i.e countries without any data of each specific attribute\n",
    "to_remove_indicies = set()\n",
    "ind_1 = life_expectancy_filtered.loc[life_expectancy_filtered.isnull().sum(1)>58].index\n",
    "ind_2 = gdp_p_cap_filtered.loc[gdp_p_cap_filtered.isnull().sum(1)>58].index\n",
    "ind_3 = population_filtered.loc[population_filtered.isnull().sum(1)>58].index\n",
    "to_remove_indicies.update(ind_1.tolist(), ind_2.tolist(), ind_3.tolist())\n",
    "\n",
    "pop_final = population_filtered.drop(list(to_remove_indicies))\n",
    "gdp_p_final = gdp_p_cap_filtered.drop(list(to_remove_indicies))\n",
    "life_exp_final = life_expectancy_filtered.drop(list(to_remove_indicies))"
   ]
  },
  {
   "cell_type": "code",
   "execution_count": 75,
   "metadata": {},
   "outputs": [],
   "source": [
    "# write output csv files\n",
    "pop_final.to_csv(\"population.csv\")\n",
    "life_exp_final.to_csv(\"life_expectancy.csv\")\n",
    "gdp_p_final.to_csv(\"gdp_p_cap.csv\")"
   ]
  },
  {
   "cell_type": "code",
   "execution_count": null,
   "metadata": {},
   "outputs": [],
   "source": []
  },
  {
   "cell_type": "code",
   "execution_count": null,
   "metadata": {},
   "outputs": [],
   "source": []
  }
 ],
 "metadata": {
  "kernelspec": {
   "display_name": "Python 3",
   "language": "python",
   "name": "python3"
  },
  "language_info": {
   "codemirror_mode": {
    "name": "ipython",
    "version": 3
   },
   "file_extension": ".py",
   "mimetype": "text/x-python",
   "name": "python",
   "nbconvert_exporter": "python",
   "pygments_lexer": "ipython3",
   "version": "3.7.3"
  }
 },
 "nbformat": 4,
 "nbformat_minor": 2
}
