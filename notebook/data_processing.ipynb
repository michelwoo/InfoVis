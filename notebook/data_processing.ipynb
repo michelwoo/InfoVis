{
 "cells": [
  {
   "cell_type": "markdown",
   "metadata": {},
   "source": [
    "## Combine 3 CSV files"
   ]
  },
  {
   "cell_type": "code",
   "execution_count": 28,
   "metadata": {},
   "outputs": [],
   "source": [
    "import pandas as pd\n",
    "import numpy as np"
   ]
  },
  {
   "cell_type": "code",
   "execution_count": 29,
   "metadata": {},
   "outputs": [],
   "source": [
    "g = pd.read_csv(\"gdp_p_cap.csv\").drop([\"Unnamed: 0\",\"index\",\"Indicator Name\",\"Indicator Code\", \"Unnamed: 64\"],axis=1)\n",
    "l = pd.read_csv(\"life_expectancy.csv\").drop([\"Unnamed: 0\",\"index\",\"Indicator Name\",\"Indicator Code\", \"Unnamed: 64\"],axis=1)\n",
    "p = pd.read_csv(\"population.csv\").drop([\"Unnamed: 0\",\"index\",\"Indicator Name\",\"Indicator Code\", \"Unnamed: 64\"],axis=1)"
   ]
  },
  {
   "cell_type": "code",
   "execution_count": 30,
   "metadata": {},
   "outputs": [
    {
     "data": {
      "text/html": [
       "<div>\n",
       "<style scoped>\n",
       "    .dataframe tbody tr th:only-of-type {\n",
       "        vertical-align: middle;\n",
       "    }\n",
       "\n",
       "    .dataframe tbody tr th {\n",
       "        vertical-align: top;\n",
       "    }\n",
       "\n",
       "    .dataframe thead th {\n",
       "        text-align: right;\n",
       "    }\n",
       "</style>\n",
       "<table border=\"1\" class=\"dataframe\">\n",
       "  <thead>\n",
       "    <tr style=\"text-align: right;\">\n",
       "      <th></th>\n",
       "      <th>Country Name</th>\n",
       "      <th>Country Code</th>\n",
       "      <th>1960</th>\n",
       "      <th>1961</th>\n",
       "      <th>1962</th>\n",
       "      <th>1963</th>\n",
       "      <th>1964</th>\n",
       "      <th>1965</th>\n",
       "      <th>1966</th>\n",
       "      <th>1967</th>\n",
       "      <th>...</th>\n",
       "      <th>2008</th>\n",
       "      <th>2009</th>\n",
       "      <th>2010</th>\n",
       "      <th>2011</th>\n",
       "      <th>2012</th>\n",
       "      <th>2013</th>\n",
       "      <th>2014</th>\n",
       "      <th>2015</th>\n",
       "      <th>2016</th>\n",
       "      <th>2017</th>\n",
       "    </tr>\n",
       "  </thead>\n",
       "  <tbody>\n",
       "    <tr>\n",
       "      <th>0</th>\n",
       "      <td>Afghanistan</td>\n",
       "      <td>AFG</td>\n",
       "      <td>NaN</td>\n",
       "      <td>NaN</td>\n",
       "      <td>NaN</td>\n",
       "      <td>NaN</td>\n",
       "      <td>NaN</td>\n",
       "      <td>NaN</td>\n",
       "      <td>NaN</td>\n",
       "      <td>NaN</td>\n",
       "      <td>...</td>\n",
       "      <td>412.014287</td>\n",
       "      <td>488.300251</td>\n",
       "      <td>543.303042</td>\n",
       "      <td>528.736648</td>\n",
       "      <td>576.190125</td>\n",
       "      <td>587.565090</td>\n",
       "      <td>583.656193</td>\n",
       "      <td>574.184114</td>\n",
       "      <td>571.073775</td>\n",
       "      <td>571.542506</td>\n",
       "    </tr>\n",
       "    <tr>\n",
       "      <th>1</th>\n",
       "      <td>Albania</td>\n",
       "      <td>ALB</td>\n",
       "      <td>NaN</td>\n",
       "      <td>NaN</td>\n",
       "      <td>NaN</td>\n",
       "      <td>NaN</td>\n",
       "      <td>NaN</td>\n",
       "      <td>NaN</td>\n",
       "      <td>NaN</td>\n",
       "      <td>NaN</td>\n",
       "      <td>...</td>\n",
       "      <td>3775.592212</td>\n",
       "      <td>3928.458970</td>\n",
       "      <td>4094.358816</td>\n",
       "      <td>4209.886952</td>\n",
       "      <td>4276.620248</td>\n",
       "      <td>4327.392484</td>\n",
       "      <td>4413.115113</td>\n",
       "      <td>4524.684565</td>\n",
       "      <td>4683.743890</td>\n",
       "      <td>4867.916405</td>\n",
       "    </tr>\n",
       "    <tr>\n",
       "      <th>2</th>\n",
       "      <td>Algeria</td>\n",
       "      <td>DZA</td>\n",
       "      <td>2480.98563</td>\n",
       "      <td>2090.783287</td>\n",
       "      <td>1638.243986</td>\n",
       "      <td>2146.271842</td>\n",
       "      <td>2214.192522</td>\n",
       "      <td>2289.942015</td>\n",
       "      <td>2120.483825</td>\n",
       "      <td>2255.824179</td>\n",
       "      <td>...</td>\n",
       "      <td>4406.947221</td>\n",
       "      <td>4402.409201</td>\n",
       "      <td>4480.785777</td>\n",
       "      <td>4524.348982</td>\n",
       "      <td>4586.651663</td>\n",
       "      <td>4620.132179</td>\n",
       "      <td>4698.664711</td>\n",
       "      <td>4776.787543</td>\n",
       "      <td>4834.230203</td>\n",
       "      <td>4812.158456</td>\n",
       "    </tr>\n",
       "    <tr>\n",
       "      <th>3</th>\n",
       "      <td>Angola</td>\n",
       "      <td>AGO</td>\n",
       "      <td>NaN</td>\n",
       "      <td>NaN</td>\n",
       "      <td>NaN</td>\n",
       "      <td>NaN</td>\n",
       "      <td>NaN</td>\n",
       "      <td>NaN</td>\n",
       "      <td>NaN</td>\n",
       "      <td>NaN</td>\n",
       "      <td>...</td>\n",
       "      <td>3652.153498</td>\n",
       "      <td>3549.577857</td>\n",
       "      <td>3587.883798</td>\n",
       "      <td>3579.960081</td>\n",
       "      <td>3748.449445</td>\n",
       "      <td>3796.882622</td>\n",
       "      <td>3843.198241</td>\n",
       "      <td>3748.320623</td>\n",
       "      <td>3530.309423</td>\n",
       "      <td>3409.929285</td>\n",
       "    </tr>\n",
       "    <tr>\n",
       "      <th>4</th>\n",
       "      <td>Antigua and Barbuda</td>\n",
       "      <td>ATG</td>\n",
       "      <td>NaN</td>\n",
       "      <td>NaN</td>\n",
       "      <td>NaN</td>\n",
       "      <td>NaN</td>\n",
       "      <td>NaN</td>\n",
       "      <td>NaN</td>\n",
       "      <td>NaN</td>\n",
       "      <td>NaN</td>\n",
       "      <td>...</td>\n",
       "      <td>16545.776949</td>\n",
       "      <td>14316.338568</td>\n",
       "      <td>13092.073818</td>\n",
       "      <td>12643.919844</td>\n",
       "      <td>12919.954160</td>\n",
       "      <td>12750.414275</td>\n",
       "      <td>13193.546602</td>\n",
       "      <td>13577.412803</td>\n",
       "      <td>14190.605760</td>\n",
       "      <td>14483.208237</td>\n",
       "    </tr>\n",
       "  </tbody>\n",
       "</table>\n",
       "<p>5 rows × 60 columns</p>\n",
       "</div>"
      ],
      "text/plain": [
       "          Country Name Country Code        1960         1961         1962  \\\n",
       "0          Afghanistan          AFG         NaN          NaN          NaN   \n",
       "1              Albania          ALB         NaN          NaN          NaN   \n",
       "2              Algeria          DZA  2480.98563  2090.783287  1638.243986   \n",
       "3               Angola          AGO         NaN          NaN          NaN   \n",
       "4  Antigua and Barbuda          ATG         NaN          NaN          NaN   \n",
       "\n",
       "          1963         1964         1965         1966         1967  ...  \\\n",
       "0          NaN          NaN          NaN          NaN          NaN  ...   \n",
       "1          NaN          NaN          NaN          NaN          NaN  ...   \n",
       "2  2146.271842  2214.192522  2289.942015  2120.483825  2255.824179  ...   \n",
       "3          NaN          NaN          NaN          NaN          NaN  ...   \n",
       "4          NaN          NaN          NaN          NaN          NaN  ...   \n",
       "\n",
       "           2008          2009          2010          2011          2012  \\\n",
       "0    412.014287    488.300251    543.303042    528.736648    576.190125   \n",
       "1   3775.592212   3928.458970   4094.358816   4209.886952   4276.620248   \n",
       "2   4406.947221   4402.409201   4480.785777   4524.348982   4586.651663   \n",
       "3   3652.153498   3549.577857   3587.883798   3579.960081   3748.449445   \n",
       "4  16545.776949  14316.338568  13092.073818  12643.919844  12919.954160   \n",
       "\n",
       "           2013          2014          2015          2016          2017  \n",
       "0    587.565090    583.656193    574.184114    571.073775    571.542506  \n",
       "1   4327.392484   4413.115113   4524.684565   4683.743890   4867.916405  \n",
       "2   4620.132179   4698.664711   4776.787543   4834.230203   4812.158456  \n",
       "3   3796.882622   3843.198241   3748.320623   3530.309423   3409.929285  \n",
       "4  12750.414275  13193.546602  13577.412803  14190.605760  14483.208237  \n",
       "\n",
       "[5 rows x 60 columns]"
      ]
     },
     "execution_count": 30,
     "metadata": {},
     "output_type": "execute_result"
    }
   ],
   "source": [
    "g.head()"
   ]
  },
  {
   "cell_type": "code",
   "execution_count": 31,
   "metadata": {},
   "outputs": [],
   "source": [
    "years = [str(x) for x in range(1960,2018)]\n",
    "g = g[years+ [\"Country Name\", \"Country Code\"]]\n",
    "l = l[years+ [\"Country Name\", \"Country Code\"]]\n",
    "p = p[years+ [\"Country Name\", \"Country Code\"]]"
   ]
  },
  {
   "cell_type": "code",
   "execution_count": 32,
   "metadata": {},
   "outputs": [],
   "source": [
    "filled_g = g.T.mask(g.T.ffill().isnull(), 0.0).T\n",
    "filled_l = l.T.mask(l.T.ffill().isnull(), 0.0).T\n",
    "filled_p = p.T.mask(p.T.ffill().isnull(), 0.0).T"
   ]
  },
  {
   "cell_type": "code",
   "execution_count": 33,
   "metadata": {},
   "outputs": [],
   "source": [
    "set_g = set(filled_g.loc[filled_g.isnull().sum(1)>5].index)\n",
    "set_l = set(filled_l.loc[filled_l.isnull().sum(1)>5].index)\n",
    "set_p = set(filled_p.loc[filled_p.isnull().sum(1)>5].index)"
   ]
  },
  {
   "cell_type": "code",
   "execution_count": 34,
   "metadata": {},
   "outputs": [],
   "source": [
    "rows_to_remove = set_g.union(set_l).union(set_p)"
   ]
  },
  {
   "cell_type": "code",
   "execution_count": 35,
   "metadata": {},
   "outputs": [],
   "source": [
    "new_g = filled_g.drop(rows_to_remove).drop(\"Country Code\",axis=1).reset_index()\n",
    "new_l = filled_l.drop(rows_to_remove).drop(\"Country Code\",axis=1).reset_index()\n",
    "new_p = filled_p.drop(rows_to_remove).reset_index()"
   ]
  },
  {
   "cell_type": "code",
   "execution_count": 36,
   "metadata": {},
   "outputs": [],
   "source": [
    "merged_tmp = pd.merge(left=new_g,right=new_l, \\\n",
    "                        left_on='Country Name', right_on='Country Name',\\\n",
    "                        suffixes=('_gdp', '_life'),how=\"inner\")\n",
    "data = pd.merge(left=merged_tmp, right=new_p, \\\n",
    "                        left_on='Country Name', right_on='Country Name',\\\n",
    "                        suffixes=('', '_pop'),how=\"inner\")"
   ]
  },
  {
   "cell_type": "markdown",
   "metadata": {
    "scrolled": false
   },
   "source": [
    "## Combine Country Code with Continent"
   ]
  },
  {
   "cell_type": "code",
   "execution_count": 44,
   "metadata": {},
   "outputs": [],
   "source": [
    "continent = pd.read_csv(\"country-and-continent-codes-list.csv\")"
   ]
  },
  {
   "cell_type": "code",
   "execution_count": 45,
   "metadata": {},
   "outputs": [],
   "source": [
    "data_final = pd.merge(left=data, right=continent, \\\n",
    "                        left_on='Country Name', right_on='Three_Letter_Country_Code',\\\n",
    "                        how=\"inner\")"
   ]
  },
  {
   "cell_type": "code",
   "execution_count": 49,
   "metadata": {
    "scrolled": true
   },
   "outputs": [],
   "source": [
    "data_final.to_csv(\"data.csv\")"
   ]
  },
  {
   "cell_type": "code",
   "execution_count": null,
   "metadata": {},
   "outputs": [],
   "source": []
  }
 ],
 "metadata": {
  "kernelspec": {
   "display_name": "Python 3",
   "language": "python",
   "name": "python3"
  },
  "language_info": {
   "codemirror_mode": {
    "name": "ipython",
    "version": 3
   },
   "file_extension": ".py",
   "mimetype": "text/x-python",
   "name": "python",
   "nbconvert_exporter": "python",
   "pygments_lexer": "ipython3",
   "version": "3.7.3"
  }
 },
 "nbformat": 4,
 "nbformat_minor": 2
}
